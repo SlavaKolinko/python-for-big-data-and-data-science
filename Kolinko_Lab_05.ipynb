{
  "cells": [
    {
      "cell_type": "markdown",
      "metadata": {
        "id": "5qV_sehzFCTp"
      },
      "source": [
        "# I. OOP"
      ]
    },
    {
      "cell_type": "markdown",
      "metadata": {
        "id": "tx_U_hOALyfg"
      },
      "source": [
        "1. (6б). Створіть клас Building, додайте три атрибути, один з яких має значення за замовчуванням та два методи на свій розсуд."
      ]
    },
    {
      "cell_type": "code",
      "execution_count": 1,
      "metadata": {
        "id": "-Vf895KaL88N",
        "colab": {
          "base_uri": "https://localhost:8080/"
        },
        "outputId": "343e10e5-5bc3-447b-ab6d-40dc0dad2fb2"
      },
      "outputs": [
        {
          "output_type": "stream",
          "name": "stdout",
          "text": [
            "Complex name: Astra\n",
            "Number of apartments: 256\n",
            "Number of floors: 9\n",
            "Added 9 apartments. Total number of apartments: 265\n"
          ]
        }
      ],
      "source": [
        "class Building:\n",
        "    def __init__(self, num_apartments, num_floors, complex_name=\"Astra\"):\n",
        "        self.complex_name = complex_name\n",
        "        self.num_apartments = num_apartments\n",
        "        self.num_floors = num_floors\n",
        "\n",
        "    def display_info(self):\n",
        "        print(f\"Complex name: {self.complex_name}\")\n",
        "        print(f\"Number of apartments: {self.num_apartments}\")\n",
        "        print(f\"Number of floors: {self.num_floors}\")\n",
        "\n",
        "    def add_apartments(self, count):\n",
        "        self.num_apartments += count\n",
        "        print(f\"Added {count} apartments. Total number of apartments: {self.num_apartments}\")\n",
        "\n",
        "building = Building(num_apartments=256, num_floors=9)\n",
        "building.display_info()\n",
        "building.add_apartments(9)"
      ]
    },
    {
      "cell_type": "markdown",
      "metadata": {
        "id": "X_UlOMB0L93w"
      },
      "source": [
        "2. (2б). Створіть два обʼєкти цього класу, де один з обʼєктів створюється із дефолтним значенням атрибуту. На одному обʼєкті отримайте значення його атрибуту, а на іншому викличте один з його методів."
      ]
    },
    {
      "cell_type": "code",
      "execution_count": 2,
      "metadata": {
        "id": "7gBu0ESOMCpG",
        "colab": {
          "base_uri": "https://localhost:8080/"
        },
        "outputId": "4d6090e2-ef95-41d8-f79e-02e727cd5002"
      },
      "outputs": [
        {
          "output_type": "stream",
          "name": "stdout",
          "text": [
            "Building 1 complex name: Astra\n",
            "Building 1 number of apartments: 19\n",
            "Building 1 number of floors: 1\n",
            "Added 42 apartments. Total number of apartments: 72\n"
          ]
        }
      ],
      "source": [
        "class Building:\n",
        "    def __init__(self, num_apartments, num_floors, complex_name=\"Astra\"):\n",
        "        self.complex_name = complex_name\n",
        "        self.num_apartments = num_apartments\n",
        "        self.num_floors = num_floors\n",
        "\n",
        "    def display_info(self):\n",
        "        print(f\"Complex name: {self.complex_name}\")\n",
        "        print(f\"Number of apartments: {self.num_apartments}\")\n",
        "        print(f\"Number of floors: {self.num_floors}\")\n",
        "\n",
        "    def add_apartments(self, count):\n",
        "        self.num_apartments += count\n",
        "        print(f\"Added {count} apartments. Total number of apartments: {self.num_apartments}\")\n",
        "\n",
        "building1 = Building(num_apartments=19, num_floors=1)\n",
        "building2 = Building(num_apartments=30, num_floors=3)\n",
        "\n",
        "print(f\"Building 1 complex name: {building1.complex_name}\")\n",
        "print(f\"Building 1 number of apartments: {building1.num_apartments}\")\n",
        "print(f\"Building 1 number of floors: {building1.num_floors}\")\n",
        "\n",
        "building2.add_apartments(42)"
      ]
    },
    {
      "cell_type": "markdown",
      "metadata": {
        "id": "HoqSCZt1MHn5"
      },
      "source": [
        "3. (5б). Створіть клас, де атрибути мають різні рівні доступу. Спробуйте отримати їхні значення та опишіть результати."
      ]
    },
    {
      "cell_type": "code",
      "execution_count": 3,
      "metadata": {
        "id": "r9b3vJxBMSPV",
        "colab": {
          "base_uri": "https://localhost:8080/"
        },
        "outputId": "556d9dc5-3ba1-40ec-8de9-977236d17168"
      },
      "outputs": [
        {
          "output_type": "stream",
          "name": "stdout",
          "text": [
            "Complex name: Astra\n",
            "Number of floors (private): 9\n",
            "Updated number of floors (private): 12\n",
            "Number of apartments (protected): 256\n",
            "Updated number of apartments (protected): 291\n"
          ]
        }
      ],
      "source": [
        "class Building:\n",
        "    def __init__(self, complex_name, num_apartments, num_floors):\n",
        "        self.complex_name = complex_name\n",
        "        self._num_apartments = num_apartments\n",
        "        self.__num_floors = num_floors\n",
        "\n",
        "    @property\n",
        "    def num_floors(self):\n",
        "        return self.__num_floors\n",
        "\n",
        "    @num_floors.setter\n",
        "    def num_floors(self, value):\n",
        "        if value > 0:\n",
        "            self.__num_floors = value\n",
        "        else:\n",
        "            print(\"Number of floors must be positive\")\n",
        "\n",
        "    def display_info(self):\n",
        "        print(f\"Complex name: {self.complex_name}\")\n",
        "        print(f\"Number of apartments: {self._num_apartments}\")\n",
        "        print(f\"Number of floors: {self.num_floors}\")\n",
        "\n",
        "    def get_num_apartments(self):\n",
        "        return self._num_apartments\n",
        "\n",
        "    def set_num_apartments(self, value):\n",
        "        if value > 0:\n",
        "            self._num_apartments = value\n",
        "        else:\n",
        "            print(\"Number of apartments must be positive\")\n",
        "\n",
        "building = Building(\"Astra\", 256, 9)\n",
        "\n",
        "print(f\"Complex name: {building.complex_name}\")\n",
        "\n",
        "print(f\"Number of floors (private): {building.num_floors}\")\n",
        "building.num_floors = 12\n",
        "print(f\"Updated number of floors (private): {building.num_floors}\")\n",
        "\n",
        "print(f\"Number of apartments (protected): {building.get_num_apartments()}\")\n",
        "building.set_num_apartments(291)\n",
        "print(f\"Updated number of apartments (protected): {building.get_num_apartments()}\")\n",
        "# 1. The public attribute 'complex_name' is accessible directly without any restrictions\n",
        "# 2. The protected attribute '_num_apartments' can be accessed or modified directly, but it's not recommended to do so outside the class\n",
        "#    It is better to use getter and setter methods like 'get_num_apartments' and 'set_num_apartments' for proper access and modification\n",
        "# 3. The private attribute '__num_floors' is not accessible directly due to name mangling, which renames the attribute to '_Building__num_floors'\n",
        "#    To access or modify it, you need to use the 'num_floors' property"
      ]
    },
    {
      "cell_type": "markdown",
      "metadata": {
        "id": "5op2m2vgMSkZ"
      },
      "source": [
        "4. (7б). Як ви розумієте термін self? Для чого використовується метод __init __?"
      ]
    },
    {
      "cell_type": "markdown",
      "metadata": {
        "id": "DyiPqNRvMasx"
      },
      "source": [
        "Коли створюється клас, то self представляє даний екземпляр цього класу. Також self використовується для доступу до змінних цього класу\n",
        "__init__ це конструктор, який використовуєтся для ініціалізації змінних у класі. викликається при створенні нового екземпляру класу"
      ]
    },
    {
      "cell_type": "markdown",
      "metadata": {
        "id": "-6X8EGfjMd2y"
      },
      "source": [
        "5. (9б). Створіть клас 3D-фігура без атрибутів, з методом get_volume для отримання об'єму фігури, що повертає 0 та __add __, який приймає self та other в якості аргументів, а повертає суму об'ємів 3d-фігур self та other."
      ]
    },
    {
      "cell_type": "code",
      "execution_count": 4,
      "metadata": {
        "id": "4rvO_wYUMaEr",
        "colab": {
          "base_uri": "https://localhost:8080/"
        },
        "outputId": "e4f439b3-65c5-4196-dc16-2b513d3db66a"
      },
      "outputs": [
        {
          "output_type": "stream",
          "name": "stdout",
          "text": [
            "Total volume: 0\n"
          ]
        }
      ],
      "source": [
        "class Figure_3D:\n",
        "    def get_volume(self):\n",
        "        return 0\n",
        "\n",
        "    def __add__(self, other):\n",
        "        if isinstance(other, Figure_3D):\n",
        "            return self.get_volume() + other.get_volume()\n",
        "        else:\n",
        "            raise TypeError(\"Argument must be an instance of Figure_3D\")\n",
        "\n",
        "figure1 = Figure_3D()\n",
        "figure2 = Figure_3D()\n",
        "\n",
        "total_volume = figure1 + figure2\n",
        "\n",
        "print(f\"Total volume: {total_volume}\")"
      ]
    },
    {
      "cell_type": "markdown",
      "metadata": {
        "id": "SFcKnnv5Mo_z"
      },
      "source": [
        "6. (11б). Створіть 2 дочірніх класи від 3d-фігура: Циліндр та Куб, які мають атрибути, необхідні для розрахунку об'єму. Визначте метод get_volume в кожному з них так, щоби вони розраховували об'єм у залежності від формули для кожного типу фігури. Створіть обʼєкт класу Циліндр та обʼєкт класу Куб. Виконайте операцію суми за допомогою оператора + між ними, аби знайти сумарний об'єм."
      ]
    },
    {
      "cell_type": "code",
      "execution_count": 5,
      "metadata": {
        "id": "H3GVNr69Muf3",
        "colab": {
          "base_uri": "https://localhost:8080/"
        },
        "outputId": "4678667f-bd7a-4403-8194-9808cd1fe69b"
      },
      "outputs": [
        {
          "output_type": "stream",
          "name": "stdout",
          "text": [
            "Total volume of Cylinder and Cube: 126.83185307179586\n"
          ]
        }
      ],
      "source": [
        "class Figure_3D:\n",
        "    def get_volume(self):\n",
        "        return 0\n",
        "\n",
        "    def __add__(self, other):\n",
        "        if isinstance(other, Figure_3D):\n",
        "            return self.get_volume() + other.get_volume()\n",
        "        else:\n",
        "            raise TypeError(\"Argument must be an instance of Figure_3D\")\n",
        "\n",
        "class Cylinder(Figure_3D):\n",
        "    def __init__(self, radius, height):\n",
        "        self.radius = radius\n",
        "        self.height = height\n",
        "\n",
        "    def get_volume(self):\n",
        "        return 3.141592653589793 * self.radius ** 2 * self.height\n",
        "\n",
        "class Cube(Figure_3D):\n",
        "    def __init__(self, side_length):\n",
        "        self.side_length = side_length\n",
        "\n",
        "    def get_volume(self):\n",
        "        return self.side_length ** 3\n",
        "\n",
        "cylinder = Cylinder(radius = 2, height = 5)\n",
        "cube = Cube(side_length = 4)\n",
        "\n",
        "total_volume = cylinder + cube\n",
        "\n",
        "print(f\"Total volume of Cylinder and Cube: {total_volume}\")"
      ]
    },
    {
      "cell_type": "markdown",
      "metadata": {
        "id": "HCvR206YMvLK"
      },
      "source": [
        "7. (3б). Продемонструйте різницю між isinstance та issubclass."
      ]
    },
    {
      "cell_type": "code",
      "execution_count": 6,
      "metadata": {
        "id": "L_V1bBvDM0GN",
        "colab": {
          "base_uri": "https://localhost:8080/"
        },
        "outputId": "581e616b-3aa1-45a7-ba88-5dfaafee41ee"
      },
      "outputs": [
        {
          "output_type": "stream",
          "name": "stdout",
          "text": [
            "True\n",
            "True\n",
            "True\n",
            "False\n"
          ]
        }
      ],
      "source": [
        "class Vehicle:\n",
        "    pass\n",
        "\n",
        "class Car(Vehicle):\n",
        "    pass\n",
        "\n",
        "car_instance = Car()\n",
        "\n",
        "print(isinstance(car_instance, Car))\n",
        "print(isinstance(car_instance, Vehicle))\n",
        "\n",
        "print(issubclass(Car, Vehicle))\n",
        "print(issubclass(Vehicle, Car))"
      ]
    },
    {
      "cell_type": "markdown",
      "metadata": {
        "id": "jjsaBZ-iM0Qq"
      },
      "source": [
        "8. (13б). Створіть клас EWallet з приватними атрибутами balance та id. Реалізуйте методи поповнення та зняття коштів, забезпечивши належну інкапсуляцію. Підказка: використовуйте декоратори property та setter."
      ]
    },
    {
      "cell_type": "code",
      "execution_count": 7,
      "metadata": {
        "id": "xCvZ7lh8M7YA",
        "colab": {
          "base_uri": "https://localhost:8080/"
        },
        "outputId": "b9109a29-208c-4c1a-fc02-3160a9e054e4"
      },
      "outputs": [
        {
          "output_type": "stream",
          "name": "stdout",
          "text": [
            "Initial balance: 19372\n",
            "Deposit is 555. New balance: 19927\n",
            "Withdrew is 226. New balance: 19701\n",
            "Final balance: 19701\n"
          ]
        }
      ],
      "source": [
        "class EWallet:\n",
        "    def __init__(self, wallet_id, initial_balance = 0):\n",
        "        self.__balance = initial_balance\n",
        "        self.__id = wallet_id\n",
        "\n",
        "    @property\n",
        "    def balance(self):\n",
        "        return self.__balance\n",
        "\n",
        "    @balance.setter\n",
        "    def balance(self, value):\n",
        "        if value < 0:\n",
        "            raise ValueError(\"Balance must be positive\")\n",
        "        self.__balance = value\n",
        "\n",
        "    def deposit(self, amount):\n",
        "        if amount <= 0:\n",
        "            raise ValueError(\"Deposit amount must be positive\")\n",
        "        self.balance += amount\n",
        "        print(f\"Deposit is {amount}. New balance: {self.balance}\")\n",
        "\n",
        "    def withdraw(self, amount):\n",
        "        if amount <= 0:\n",
        "            raise ValueError(\"Withdrawal amount must be positive\")\n",
        "        if amount > self.balance:\n",
        "            raise ValueError(\"Insufficient balance\")\n",
        "        self.balance -= amount\n",
        "        print(f\"Withdrew is {amount}. New balance: {self.balance}\")\n",
        "\n",
        "    @property\n",
        "    def wallet_id(self):\n",
        "        return self.__id\n",
        "\n",
        "wallet = EWallet(wallet_id=\"S6T3A7R7\", initial_balance=19372)\n",
        "\n",
        "print(f\"Initial balance: {wallet.balance}\")\n",
        "\n",
        "wallet.deposit(555)\n",
        "wallet.withdraw(226)\n",
        "\n",
        "print(f\"Final balance: {wallet.balance}\")"
      ]
    },
    {
      "cell_type": "markdown",
      "metadata": {
        "id": "tIzL2SJTM8ft"
      },
      "source": [
        "9. (11б). Створіть клас ShoppingCart, який містить список об'єктів типу Item. Реалізуйте методи для додавання айтемів, їх видалення та відображення списку айтемів."
      ]
    },
    {
      "cell_type": "code",
      "execution_count": 8,
      "metadata": {
        "id": "HWxfJKLtNAUZ",
        "colab": {
          "base_uri": "https://localhost:8080/"
        },
        "outputId": "3adf8b86-25c8-4405-9dd3-0015f7f72a4d"
      },
      "outputs": [
        {
          "output_type": "stream",
          "name": "stdout",
          "text": [
            "Cheese - $67\n",
            "Milk - $80\n",
            "Milk - $80\n"
          ]
        }
      ],
      "source": [
        "class Item:\n",
        "    def __init__(self, name, price):\n",
        "        self.name = name\n",
        "        self.price = price\n",
        "\n",
        "class ShoppingCart:\n",
        "    def __init__(self):\n",
        "        self.items = []\n",
        "\n",
        "    def add_item(self, item):\n",
        "        self.items.append(item)\n",
        "\n",
        "    def remove_item(self, item_name):\n",
        "        self.items = [item for item in self.items if item.name != item_name]\n",
        "\n",
        "    def display_items(self):\n",
        "        for item in self.items:\n",
        "            print(f\"{item.name} - ${item.price}\")\n",
        "\n",
        "cart = ShoppingCart()\n",
        "item1 = Item(\"Cheese\", 67)\n",
        "item2 = Item(\"Milk\", 80)\n",
        "\n",
        "cart.add_item(item1)\n",
        "cart.add_item(item2)\n",
        "cart.display_items()\n",
        "\n",
        "cart.remove_item(\"Cheese\")\n",
        "cart.display_items()"
      ]
    },
    {
      "cell_type": "markdown",
      "metadata": {
        "id": "lmV8pAwwNIqu"
      },
      "source": [
        "10. (13б). Створіть клас Vehicle з атрибутами brand (manufacturer) та production_age. Створіть ще один клас Engine з такими атрибутами, як type (ex. petrol) та size (volume, litres). Створіть клас Car, який успадковує обидва класи Vehicle та Engine. Продемонструйте використання множинної спадковості, створивши обʼєкт класу Car та отримавши mro для цього класу."
      ]
    },
    {
      "cell_type": "code",
      "execution_count": 9,
      "metadata": {
        "id": "R49grKlWNPeN",
        "colab": {
          "base_uri": "https://localhost:8080/"
        },
        "outputId": "0ece0f80-08a7-4369-bbc2-ccedb62791cc"
      },
      "outputs": [
        {
          "output_type": "stream",
          "name": "stdout",
          "text": [
            "Brand: Toyota, production Age: 3 years\n",
            "Engine Type: Petrol, size: 2.0L\n",
            "\n",
            "MRO for Car class:\n",
            "[<class '__main__.Car'>, <class '__main__.Vehicle'>, <class '__main__.Engine'>, <class 'object'>]\n"
          ]
        }
      ],
      "source": [
        "class Vehicle:\n",
        "    def __init__(self, brand=\"Toyota\", production_age=3):\n",
        "        self.brand = brand\n",
        "        self.production_age = production_age\n",
        "\n",
        "class Engine:\n",
        "    def __init__(self, engine_type=\"Petrol\", size=2.0):\n",
        "        self.engine_type = engine_type\n",
        "        self.size = size\n",
        "\n",
        "class Car(Vehicle, Engine):\n",
        "    def __init__(self, brand=\"Toyota\", production_age=3, engine_type=\"Petrol\", size=2.0):\n",
        "        Vehicle.__init__(self, brand, production_age)\n",
        "        Engine.__init__(self, engine_type, size)\n",
        "\n",
        "    def car_info(self):\n",
        "        return f\"Brand: {self.brand}, production Age: {self.production_age} years\\nEngine Type: {self.engine_type}, size: {self.size}L\"\n",
        "\n",
        "my_car = Car()\n",
        "print(my_car.car_info())\n",
        "\n",
        "print(\"\\nMRO for Car class:\")\n",
        "print(Car.mro())"
      ]
    },
    {
      "cell_type": "markdown",
      "metadata": {
        "id": "dIJyUiNBFG8G"
      },
      "source": [
        "# II. Iterator"
      ]
    },
    {
      "cell_type": "markdown",
      "metadata": {
        "id": "13vsm0NyKIzL"
      },
      "source": [
        "11. (4б). Визначте рядок(str) з 4ма різними за значенням символами. Створіть ітератор на основі цього рядка. Викличте 5 разів функцію next на ітераторі, 4ри перших з них огорніть у ф-цію print()."
      ]
    },
    {
      "cell_type": "code",
      "execution_count": 10,
      "metadata": {
        "id": "81ntabAkKuz-",
        "colab": {
          "base_uri": "https://localhost:8080/"
        },
        "outputId": "7b536ea4-57ff-4f63-eb61-fc933cef8108"
      },
      "outputs": [
        {
          "output_type": "stream",
          "name": "stdout",
          "text": [
            "c\n",
            "a\n",
            "r\n",
            "t\n",
            "Complete\n"
          ]
        }
      ],
      "source": [
        "my_string = \"cart\"\n",
        "\n",
        "iterator = iter(my_string)\n",
        "\n",
        "for _ in range(4):\n",
        "    print(next(iterator))\n",
        "\n",
        "try:\n",
        "    next(iterator)\n",
        "except StopIteration:\n",
        "    print(\"Complete\")"
      ]
    },
    {
      "cell_type": "markdown",
      "metadata": {
        "id": "aekWHGXOLRsO"
      },
      "source": [
        "А що якщо викликати цю ж функцію на рядку?"
      ]
    },
    {
      "cell_type": "code",
      "execution_count": null,
      "metadata": {
        "id": "mxATGsErLV1i"
      },
      "outputs": [],
      "source": [
        "Це не буде працювати, бо рядок не є ітератором, буде викликана помилка TypeError"
      ]
    },
    {
      "cell_type": "markdown",
      "metadata": {
        "id": "XwtMEopwJ4pH"
      },
      "source": [
        " 12. (5б). Опишіть своїми словами в одному реченні, як ви розумієте різницю між ітерабельними обʼєктами та ітераторами (можна на прикладі)."
      ]
    },
    {
      "cell_type": "markdown",
      "metadata": {
        "id": "-sHrODc3KFn8"
      },
      "source": [
        "Ітерабельний об'єкт — це об'єкт, з якого можна отримати елементи по одному, наприклад, список, а ітератор — це об'єкт, який дозволяє перебирати елементи цього об'єкта, зберігаючи поточну позицію, наприклад, після виклику `iter()` для списку."
      ]
    },
    {
      "cell_type": "markdown",
      "metadata": {
        "id": "E9qJWmNbK8Gl"
      },
      "source": [
        "13. (11б). Створіть клас, що має визначений Iterator Protocol та при кожному виклику next повертає назву дня тижня, поки вони не вичерпаються. Зверніть увагу, що порядок має значення."
      ]
    },
    {
      "cell_type": "code",
      "execution_count": 11,
      "metadata": {
        "id": "cqx-g_RsLo6I",
        "colab": {
          "base_uri": "https://localhost:8080/"
        },
        "outputId": "065b7bc2-bdcc-47f2-fcbc-683178e03df2"
      },
      "outputs": [
        {
          "output_type": "stream",
          "name": "stdout",
          "text": [
            "Monday\n",
            "Tuesday\n",
            "Wednesday\n",
            "Thursday\n",
            "Friday\n",
            "Saturday\n",
            "Sunday\n"
          ]
        }
      ],
      "source": [
        "class WeekDay:\n",
        "    def __init__(self):\n",
        "        self.days = [\"Monday\", \"Tuesday\", \"Wednesday\", \"Thursday\", \"Friday\", \"Saturday\", \"Sunday\"]\n",
        "        self.index = 0\n",
        "\n",
        "    def __iter__(self):\n",
        "        return self\n",
        "\n",
        "    def __next__(self):\n",
        "        if self.index < len(self.days):\n",
        "            day = self.days[self.index]\n",
        "            self.index += 1\n",
        "            return day\n",
        "        else:\n",
        "            raise StopIteration\n",
        "\n",
        "iterator = WeekDay()\n",
        "\n",
        "for day in iterator:\n",
        "    print(day)"
      ]
    },
    {
      "cell_type": "markdown",
      "metadata": {
        "id": "Z3E3S_s1Fv7-"
      },
      "source": [
        "# Вітаю! Ви велика(ий) молодець, що впоралась(вся). Похваліть себе та побалуйте чимось приємним. Я Вами пишаюся."
      ]
    }
  ],
  "metadata": {
    "colab": {
      "provenance": []
    },
    "kernelspec": {
      "display_name": "Python 3",
      "name": "python3"
    },
    "language_info": {
      "name": "python"
    }
  },
  "nbformat": 4,
  "nbformat_minor": 0
}